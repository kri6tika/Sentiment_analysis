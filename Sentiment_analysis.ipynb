{
 "cells": [
  {
   "cell_type": "code",
   "execution_count": 14,
   "metadata": {},
   "outputs": [
    {
     "name": "stdout",
     "output_type": "stream",
     "text": [
      "RT @fahadpvf: #EndiaFinancingTerrorism       The RSS has taken a risk because Mr Modi will work on his own accord and may not necessarily t…\n",
      "Sentiment(polarity=0.3, subjectivity=1.0)\n",
      "@ZRitesh @majorgauravarya 🖕😂🖕😂🖕😎\n",
      "😂😂😂😂\n",
      "Surrender Modi ky durpok bhakt or namard Fouji\n",
      "😂😂😂 \n",
      "Shakal sy hi hijra lug rh… https://t.co/VUINnOmSbY\n",
      "Sentiment(polarity=0.0, subjectivity=0.0)\n",
      "RT @asadowaisi: First @PMOIndia imposed an unconstitutional &amp; cruel lockdown. He reopened economy even as cases were increasing. Now, China…\n",
      "Sentiment(polarity=-0.375, subjectivity=0.6666666666666666)\n",
      "RT @fahadpvf: #EndiaFinancingTerrorism Senior journalist Ram Bahadur Rai, however, says there is \"no rift between Mr Modi and the RSS\"\n",
      "Sentiment(polarity=0.0, subjectivity=0.0)\n",
      "RT @INCIndia: Does PM Modi realise that by lying &amp; echoing China's statements he is in fact helping them? https://t.co/r0Mqs40B7W\n",
      "Sentiment(polarity=0.0, subjectivity=0.0)\n",
      "@sujataanandan Both Sujata Anandan and Nikhil Wagle are wrong . \n",
      "1    idiots can't be fooled \n",
      "2 when they have elec… https://t.co/8R3LteqOmB\n",
      "Sentiment(polarity=-0.65, subjectivity=0.8500000000000001)\n",
      "RT @VijayVst0502: राहुल गांधी जी पढ़ लीजिए यह रिपोर्ट जो खुलासा कर रही है कि कांग्रेस सियाचीन को सरेन्डर करने वाली थी,बेशर्म बनकर बातें मत…\n",
      "Sentiment(polarity=0.0, subjectivity=0.0)\n",
      "RT @fahadpvf: #EndiaFinancingTerrorism       Both Mr Rai and Ms Chaudhary agree that at the moment there is a clear understanding about the…\n",
      "Sentiment(polarity=0.10000000000000002, subjectivity=0.3833333333333333)\n",
      "RT @_YogendraYadav: लोकतंत्र का खात्मा अक्सर लोकतांत्रिक तरीके से चुने गये राजनेताओं के हाथों होता है और इस खात्मे के लिए लोकतांत्रिक तौर-त…\n",
      "Sentiment(polarity=0.0, subjectivity=0.0)\n",
      "@GauravCC @sambitswaraj https://t.co/R6loAh3KKT\n",
      "\n",
      "@akshaykumar is looking very energetic on this serious issue. Hope… https://t.co/edHUu56B05\n",
      "Sentiment(polarity=0.15833333333333335, subjectivity=0.6583333333333333)\n",
      "RT @BrutIndia: \"Why did suddenly the magic of Mr Modi overwhelm the party\", asks Sanjay Jha after he was removed as Congress party spokespe…\n",
      "Sentiment(polarity=0.25, subjectivity=0.75)\n",
      "RT @desimojito: Same whatsapp group named ‘Anti Modi, Anti India’ https://t.co/zK5WTXH9BE\n",
      "Sentiment(polarity=0.0, subjectivity=0.125)\n",
      "RT @DilliDurAst: Behind Modi in this old photo is Ashok Kumar Gupta, now a director in a company that runs hatemongering site OpIndia. http…\n",
      "Sentiment(polarity=-0.15000000000000002, subjectivity=0.44999999999999996)\n",
      "Great news, says PM Modi as Centre upgrades Kushinagar airport - india news - https://t.co/IKNbMgdMaj\n",
      "Sentiment(polarity=0.8, subjectivity=0.75)\n",
      "RT @muscatphoto: Modi Govt seems to be deciding Petrol &amp; Diesel price everyday.\n",
      "\n",
      "18th consecutive hike, in 18 days!\n",
      "#petrolpricehike\n",
      "#diese…\n",
      "Sentiment(polarity=-0.25, subjectivity=0.6)\n"
     ]
    }
   ],
   "source": [
    "import tweepy\n",
    "from textblob import TextBlob\n",
    "\n",
    "consumer_key= 'Ggf5VxXPXbiWHg50lsTeVZSHu'\n",
    "consumer_secret= 'cNtEAWx0jjt8yC4r04vEBe6V171OznVzF0TgPv78H606Y8iNqS'\n",
    "access_token= '1054079837168533504-mzHQCWSgxlUYZqXr8G7qvKyhn2qZr9'\n",
    "access_token_secret= 'VwaUS9Zuno2kjJrGjclfU24xjQTAQ4XtDVHAtRpBMidY9'\n",
    "\n",
    "auth= tweepy.OAuthHandler(consumer_key,consumer_secret)\n",
    "auth.set_access_token(access_token,access_token_secret)\n",
    "\n",
    "api=tweepy.API(auth)\n",
    "\n",
    "public_tweets=api.search('Modi' or 'modi')\n",
    "\n",
    "for i in public_tweets:\n",
    "    print(i.text)\n",
    "    analysis=TextBlob(i.text)\n",
    "    print(analysis.sentiment)"
   ]
  }
 ],
 "metadata": {
  "kernelspec": {
   "display_name": "Python 3",
   "language": "python",
   "name": "python3"
  },
  "language_info": {
   "codemirror_mode": {
    "name": "ipython",
    "version": 3
   },
   "file_extension": ".py",
   "mimetype": "text/x-python",
   "name": "python",
   "nbconvert_exporter": "python",
   "pygments_lexer": "ipython3",
   "version": "3.7.0"
  }
 },
 "nbformat": 4,
 "nbformat_minor": 2
}
